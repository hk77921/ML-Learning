{
  "nbformat": 4,
  "nbformat_minor": 0,
  "metadata": {
    "colab": {
      "name": "Assignment -1 - DS.ipynb",
      "provenance": [],
      "collapsed_sections": [],
      "include_colab_link": true
    },
    "kernelspec": {
      "name": "python3",
      "display_name": "Python 3"
    }
  },
  "cells": [
    {
      "cell_type": "markdown",
      "metadata": {
        "id": "view-in-github",
        "colab_type": "text"
      },
      "source": [
        "<a href=\"https://colab.research.google.com/github/hk77921/ML-Learning/blob/master/Assignment_1_DS.ipynb\" target=\"_parent\"><img src=\"https://colab.research.google.com/assets/colab-badge.svg\" alt=\"Open In Colab\"/></a>"
      ]
    },
    {
      "cell_type": "markdown",
      "metadata": {
        "id": "hmr2U-GChnlR",
        "colab_type": "text"
      },
      "source": [
        "\n",
        "# **Assignment - 1 : Getting Started**\n",
        "\n",
        "---\n",
        "\n",
        "This assignment will get you familiarized with python libraries required for ***data science*** and ***machine learning***. You will have to complete the code snippets and run them. "
      ]
    },
    {
      "cell_type": "markdown",
      "metadata": {
        "id": "211pD45xEO0u",
        "colab_type": "text"
      },
      "source": [
        "## **Note :**   Use only the methods and attributes of the ```numpy``` library. **Do not** hard-code them. Avoid loops as much as possible."
      ]
    },
    {
      "cell_type": "markdown",
      "metadata": {
        "id": "O7v9C4mun3SQ",
        "colab_type": "text"
      },
      "source": [
        "---\n",
        "## Part - 1\n",
        " In this part, you will work with the library ```numpy```. \n",
        "\n",
        "\n"
      ]
    },
    {
      "cell_type": "markdown",
      "metadata": {
        "id": "846yDaXQwiMD",
        "colab_type": "text"
      },
      "source": [
        "Import ```numpy``` with an alias name ```np```. Initialize two arrays $a$, $b$ of size $3 \\times 5$ with random values and print them. "
      ]
    },
    {
      "cell_type": "code",
      "metadata": {
        "id": "_MyeCO3_o3oq",
        "colab_type": "code",
        "outputId": "f5614eb7-f7f0-414a-85f3-06e47941414e",
        "colab": {
          "base_uri": "https://localhost:8080/",
          "height": 118
        }
      },
      "source": [
        "import numpy as np\n",
        "a = np.random.randn(3,5) # other ways of generating random matrices can be used\n",
        "b = np.random.randn(3,5)\n",
        "print(a)\n",
        "print(b)"
      ],
      "execution_count": 0,
      "outputs": [
        {
          "output_type": "stream",
          "text": [
            "[[ 0.61195871  0.38217603 -0.68236175 -0.15892509  1.96583747]\n",
            " [-0.61209462 -0.97576868 -1.41185052 -0.43600697 -0.62069723]\n",
            " [-1.19921033  0.79724142  0.00913807  0.95889511  0.96877431]]\n",
            "[[ 0.76449883  1.22049555  0.7276404  -0.34079606 -0.91695982]\n",
            " [ 1.16265281 -0.85978275 -0.16199222  0.5475104   1.82794479]\n",
            " [ 0.60647257 -0.10568797 -0.20948251  1.14896012 -0.20090212]]\n"
          ],
          "name": "stdout"
        }
      ]
    },
    {
      "cell_type": "markdown",
      "metadata": {
        "id": "p7jtpYT4wiO6",
        "colab_type": "text"
      },
      "source": [
        "Initialize and print two arrays $c$ and $d$ having the following properties:\n",
        "*   $c$ is a row vector with all non-negative integer values less than 100\n",
        "* $d$ is a square matrix of size 3 having all entries as 0.0"
      ]
    },
    {
      "cell_type": "code",
      "metadata": {
        "id": "a2lJdRf8x9f2",
        "colab_type": "code",
        "outputId": "f1edf24d-a251-4414-89c2-3884e3c69159",
        "colab": {
          "base_uri": "https://localhost:8080/",
          "height": 151
        }
      },
      "source": [
        "c = np.arange(100)\n",
        "d =  np.zeros((3,3))\n",
        "print(c)\n",
        "print(d)"
      ],
      "execution_count": 0,
      "outputs": [
        {
          "output_type": "stream",
          "text": [
            "[ 0  1  2  3  4  5  6  7  8  9 10 11 12 13 14 15 16 17 18 19 20 21 22 23\n",
            " 24 25 26 27 28 29 30 31 32 33 34 35 36 37 38 39 40 41 42 43 44 45 46 47\n",
            " 48 49 50 51 52 53 54 55 56 57 58 59 60 61 62 63 64 65 66 67 68 69 70 71\n",
            " 72 73 74 75 76 77 78 79 80 81 82 83 84 85 86 87 88 89 90 91 92 93 94 95\n",
            " 96 97 98 99]\n",
            "[[0. 0. 0.]\n",
            " [0. 0. 0.]\n",
            " [0. 0. 0.]]\n"
          ],
          "name": "stdout"
        }
      ]
    },
    {
      "cell_type": "markdown",
      "metadata": {
        "id": "qqgtSsa88Zmh",
        "colab_type": "text"
      },
      "source": [
        "We have $e$ as following : ```e = [[1,2,3],[4,5,6],[7,8,9]]```. Change $e$ as a numpy array and print it."
      ]
    },
    {
      "cell_type": "code",
      "metadata": {
        "id": "Krhm4bVE7RET",
        "colab_type": "code",
        "outputId": "3ff9965d-570e-4f4d-9d95-c0e93e180337",
        "colab": {
          "base_uri": "https://localhost:8080/",
          "height": 67
        }
      },
      "source": [
        "e = [[1,2,3],[4,5,6],[7,8,9]]\n",
        "e = np.array(e)\n",
        "print(e)"
      ],
      "execution_count": 0,
      "outputs": [
        {
          "output_type": "stream",
          "text": [
            "[[1 2 3]\n",
            " [4 5 6]\n",
            " [7 8 9]]\n"
          ],
          "name": "stdout"
        }
      ]
    },
    {
      "cell_type": "markdown",
      "metadata": {
        "id": "1qTikI0foam9",
        "colab_type": "text"
      },
      "source": [
        "$f$ and $g$ are two square matrices of size 5 such that all the entries of $f$ are 1 and $g$ is an identity matrix. Initialize them and print them"
      ]
    },
    {
      "cell_type": "code",
      "metadata": {
        "id": "DvaLckI49aBV",
        "colab_type": "code",
        "outputId": "c1afffb5-5500-4c0d-ace0-0d67abdb371e",
        "colab": {
          "base_uri": "https://localhost:8080/",
          "height": 185
        }
      },
      "source": [
        "f = np.ones((5,5))\n",
        "g = np.eye(5)\n",
        "print(f)\n",
        "print(g)"
      ],
      "execution_count": 0,
      "outputs": [
        {
          "output_type": "stream",
          "text": [
            "[[1. 1. 1. 1. 1.]\n",
            " [1. 1. 1. 1. 1.]\n",
            " [1. 1. 1. 1. 1.]\n",
            " [1. 1. 1. 1. 1.]\n",
            " [1. 1. 1. 1. 1.]]\n",
            "[[1. 0. 0. 0. 0.]\n",
            " [0. 1. 0. 0. 0.]\n",
            " [0. 0. 1. 0. 0.]\n",
            " [0. 0. 0. 1. 0.]\n",
            " [0. 0. 0. 0. 1.]]\n"
          ],
          "name": "stdout"
        }
      ]
    },
    {
      "cell_type": "markdown",
      "metadata": {
        "id": "gcBZAZibAKcg",
        "colab_type": "text"
      },
      "source": [
        "Reshape $c$ into a $10 \\times 10$ matrix and name it $h$. Now flatten $h$, call it $c^\\prime$ and print **YES** when the shapes of $c$ and $c^\\prime$ are same. Otherwise print **NO**."
      ]
    },
    {
      "cell_type": "code",
      "metadata": {
        "id": "I71vtO9bA9Pi",
        "colab_type": "code",
        "outputId": "20147b75-0dd2-4feb-9093-7d046e4b10cc",
        "colab": {
          "base_uri": "https://localhost:8080/",
          "height": 34
        }
      },
      "source": [
        "h = c.reshape((10,10))\n",
        "c1 = h.flatten()\n",
        "if c.shape == c1.shape:\n",
        "    print('YES')\n",
        "else:\n",
        "    print('NO')"
      ],
      "execution_count": 0,
      "outputs": [
        {
          "output_type": "stream",
          "text": [
            "YES\n"
          ],
          "name": "stdout"
        }
      ]
    },
    {
      "cell_type": "markdown",
      "metadata": {
        "id": "8FrecDPiA-Bv",
        "colab_type": "text"
      },
      "source": [
        "Let $A$ denote a randomly initialized three dimensional matrix of shape (2,10,5). Transpose $A$, call it $A^\\prime$, such that its shape is (5,2,10) and print it."
      ]
    },
    {
      "cell_type": "code",
      "metadata": {
        "id": "VbOKqSm6Bkaq",
        "colab_type": "code",
        "outputId": "45f77073-6a91-4f14-b6ca-37ff30595adb",
        "colab": {
          "base_uri": "https://localhost:8080/",
          "height": 420
        }
      },
      "source": [
        "A = np.random.rand(2,10,5)\n",
        "A1 = A.transpose((2,0,1))\n",
        "print(A1)"
      ],
      "execution_count": 0,
      "outputs": [
        {
          "output_type": "stream",
          "text": [
            "[[[0.41498249 0.86686513 0.171562   0.82520892 0.69569285 0.93362086\n",
            "   0.30179554 0.72475212 0.15085875 0.65612936]\n",
            "  [0.69966346 0.39819878 0.55712325 0.82272745 0.48868539 0.75457217\n",
            "   0.11725948 0.01612617 0.32950618 0.73030181]]\n",
            "\n",
            " [[0.3260295  0.44758707 0.28628745 0.53020913 0.41902315 0.47110014\n",
            "   0.96811658 0.71680466 0.9432538  0.10244485]\n",
            "  [0.74080412 0.11484139 0.80520487 0.11238544 0.59938459 0.00369666\n",
            "   0.22153989 0.58221796 0.47581252 0.09480063]]\n",
            "\n",
            " [[0.48613106 0.89822483 0.72020072 0.10060898 0.08471619 0.49283806\n",
            "   0.17031651 0.81546668 0.78815408 0.34814919]\n",
            "  [0.57199322 0.88217415 0.57503725 0.53171562 0.19290661 0.9246967\n",
            "   0.39882931 0.88687789 0.37678915 0.30872776]]\n",
            "\n",
            " [[0.31571857 0.38491208 0.31595014 0.57352585 0.56495883 0.13845472\n",
            "   0.59918801 0.17341382 0.32004504 0.25337371]\n",
            "  [0.21527382 0.19509818 0.49448193 0.96464614 0.96162034 0.89312486\n",
            "   0.35038275 0.70483104 0.13661291 0.3844174 ]]\n",
            "\n",
            " [[0.14629431 0.31180878 0.933037   0.0299277  0.5112558  0.09426787\n",
            "   0.00594059 0.15950631 0.0596732  0.17345333]\n",
            "  [0.38058937 0.8793225  0.18835065 0.26906618 0.89178214 0.42241481\n",
            "   0.83109569 0.97680036 0.82947156 0.217208  ]]]\n"
          ],
          "name": "stdout"
        }
      ]
    },
    {
      "cell_type": "markdown",
      "metadata": {
        "id": "xR2zd-nkCani",
        "colab_type": "text"
      },
      "source": [
        "You have a matrix $X$ of size (10,5) filled with random values. Print the following :\n",
        "* Minimum value and index where it occured, for each column\n",
        "* Maximum value and the index where it occured, for each column\n",
        "* Minimum value and index where it occured, for each row\n",
        "* Maximum value and index where it occured, for each row\n",
        "* Minimum value and index where it occured, for the entire matrix\n",
        "* Maximum value and index where it occured, for the entire matrix"
      ]
    },
    {
      "cell_type": "code",
      "metadata": {
        "id": "FR2Wd4fWD_Og",
        "colab_type": "code",
        "outputId": "f74d7baf-1b61-4c11-89d4-a495e92f1b32",
        "colab": {
          "base_uri": "https://localhost:8080/",
          "height": 151
        }
      },
      "source": [
        "np.random.seed(0)\n",
        "X = np.random.rand(10,5)\n",
        "print(np.min(X,axis=0),np.argmin(X,axis=0))\n",
        "print(np.max(X,axis=0),np.argmax(X,axis=0))\n",
        "print(np.min(X,axis=1),np.argmin(X,axis=1))\n",
        "print(np.max(X,axis=1),np.argmax(X,axis=1))\n",
        "print(np.min(X),np.argmin(X))\n",
        "print(np.max(X),np.argmax(X))"
      ],
      "execution_count": 0,
      "outputs": [
        {
          "output_type": "stream",
          "text": [
            "[0.0871293  0.0202184  0.1289263  0.06022547 0.0187898 ] [3 3 9 8 6]\n",
            "[0.97861834 0.79915856 0.94466892 0.96366276 0.87001215] [4 4 5 1 3]\n",
            "[0.4236548  0.38344152 0.07103606 0.0202184  0.11827443 0.14335329\n",
            " 0.0187898  0.61209572 0.06022547 0.1289263 ] [4 4 4 1 4 1 4 1 3 2]\n",
            "[0.71518937 0.96366276 0.92559664 0.87001215 0.97861834 0.94466892\n",
            " 0.77423369 0.94374808 0.6976312  0.67063787] [1 3 3 4 0 2 1 3 2 0]\n",
            "0.018789800436355142 34\n",
            "0.978618342232764 20\n"
          ],
          "name": "stdout"
        }
      ]
    },
    {
      "cell_type": "markdown",
      "metadata": {
        "id": "YpjW2ypkEGtS",
        "colab_type": "text"
      },
      "source": [
        "Find and print the following for the matrix X: \n",
        "* Mean of each row and column\n",
        "* Standard deviation of each row and column\n",
        "* Mean of the entire matrix\n",
        "* Standard deviation of entire matrix"
      ]
    },
    {
      "cell_type": "code",
      "metadata": {
        "id": "gMdm2pw0GWjf",
        "colab_type": "code",
        "outputId": "36f12caf-197d-4c19-d6f1-7096e7308dc1",
        "colab": {
          "base_uri": "https://localhost:8080/",
          "height": 118
        }
      },
      "source": [
        "print(np.mean(X,axis=1),np.mean(X,axis=0))\n",
        "print(np.std(X,axis=1),np.std(X,axis=0))\n",
        "print(np.mean(X))\n",
        "print(np.std(X))"
      ],
      "execution_count": 0,
      "outputs": [
        {
          "output_type": "stream",
          "text": [
            "[0.56706085 0.66447172 0.57705944 0.51762729 0.62761197 0.5328907\n",
            " 0.41643268 0.69444672 0.44423265 0.33781717] [0.56044382 0.46781457 0.62009909 0.64025127 0.40121685]\n",
            "[0.09445299 0.23322986 0.29189733 0.38052993 0.30431633 0.26338419\n",
            " 0.25841437 0.12727959 0.23169975 0.18537332] [0.24687647 0.25752158 0.22948615 0.28054144 0.26584905]\n",
            "0.5379651182755409\n",
            "0.27226582292177587\n"
          ],
          "name": "stdout"
        }
      ]
    },
    {
      "cell_type": "markdown",
      "metadata": {
        "id": "7dw7W8HOGXKA",
        "colab_type": "text"
      },
      "source": [
        "Let $Y$ denote a square matrix of size 10 with random values. Print the following:\n",
        "* Determinant\n",
        "* Rank of the matrix\n",
        "* Diagonal Elements\n",
        "* Trace\n",
        "* Eigen values\n",
        "* Matrices obtained after Singular Value Decomposition\n",
        "* Inverse if exists, otherwise Pseudo-Inverse\n",
        "* Multiplication $Y$ with $X$\n",
        "* Element-wise multiplication of $Y$ and its inverse(or pseudo-inverse)"
      ]
    },
    {
      "cell_type": "code",
      "metadata": {
        "id": "Tswbn9hgL7yi",
        "colab_type": "code",
        "outputId": "3daba8b3-8af9-494a-9026-06237d7c8e5b",
        "colab": {
          "base_uri": "https://localhost:8080/",
          "height": 1000
        }
      },
      "source": [
        "np.random.seed(3)\n",
        "Y = np.random.rand(10,10)\n",
        "print(np.linalg.det(Y))\n",
        "print(np.linalg.matrix_rank(Y))\n",
        "print(np.diag(Y))\n",
        "print(np.trace(Y))\n",
        "print(np.linalg.eigvals(Y))\n",
        "print(np.linalg.svd(Y))\n",
        "print(np.linalg.pinv(Y))\n",
        "print(np.matmul(Y,X))\n",
        "print(np.dot(Y,np.linalg.pinv(Y)))"
      ],
      "execution_count": 0,
      "outputs": [
        {
          "output_type": "stream",
          "text": [
            "-0.012807808169095483\n",
            "10\n",
            "[0.5507979  0.45683322 0.44045372 0.84575087 0.4576864  0.36217621\n",
            " 0.06152893 0.19897603 0.92672568 0.19638058]\n",
            "4.497309545724899\n",
            "[ 4.797525  +0.j          0.72411408+0.52238181j  0.72411408-0.52238181j\n",
            " -0.48250062+0.55413671j -0.48250062-0.55413671j -0.6909002 +0.j\n",
            " -0.25905659+0.32357377j -0.25905659-0.32357377j  0.2127855 +0.08352477j\n",
            "  0.2127855 -0.08352477j]\n",
            "(array([[-0.31776408, -0.02455508, -0.60644878, -0.17883359, -0.12672161,\n",
            "         0.14873878, -0.17823942, -0.52859453, -0.02295855, -0.38570883],\n",
            "       [-0.26118514, -0.10864541, -0.24911354,  0.26547359,  0.52168399,\n",
            "        -0.25773901, -0.46995326,  0.21752636, -0.39285046,  0.16234491],\n",
            "       [-0.31347907, -0.34483471, -0.25292297,  0.1214296 ,  0.1486964 ,\n",
            "         0.33436315,  0.54080229,  0.48017168,  0.05660692, -0.20966421],\n",
            "       [-0.35815379,  0.59490017,  0.30255161,  0.15850614, -0.11046295,\n",
            "         0.3051409 ,  0.07395537,  0.03044889, -0.50561658, -0.18384856],\n",
            "       [-0.28385845, -0.18085696, -0.1583078 ,  0.10535533, -0.46807835,\n",
            "        -0.08377643,  0.24075452, -0.16170764, -0.24786952,  0.69201648],\n",
            "       [-0.28871348, -0.27577124,  0.40271105,  0.60433658,  0.11931679,\n",
            "        -0.04899205,  0.02593316, -0.44875145,  0.27874747, -0.12964796],\n",
            "       [-0.27897316,  0.00398904,  0.20819753, -0.52536617,  0.41116881,\n",
            "        -0.41991923,  0.42687225, -0.24145621, -0.12958507, -0.00984813],\n",
            "       [-0.24788529,  0.48136836, -0.15792433, -0.02303902,  0.3246308 ,\n",
            "         0.25755952, -0.01429533, -0.03088365,  0.56052488,  0.44079262],\n",
            "       [-0.37505167, -0.36728578,  0.39799373, -0.45186801, -0.10830044,\n",
            "         0.34456765, -0.4447402 ,  0.14147957,  0.0716725 ,  0.09192695],\n",
            "       [-0.40049601,  0.19846099, -0.02705464,  0.02500837, -0.39745062,\n",
            "        -0.57941613, -0.10288216,  0.3673956 ,  0.33321483, -0.22039139]]), array([4.89636645, 1.42832104, 1.17173389, 0.94068764, 0.76892251,\n",
            "       0.62457278, 0.52105948, 0.28969576, 0.24512275, 0.09350223]), array([[-0.28816735, -0.35560525, -0.33294235, -0.33250662, -0.36658188,\n",
            "        -0.3625847 , -0.26573249, -0.23278667, -0.30457183, -0.29270444],\n",
            "       [ 0.53693497,  0.11306854,  0.39562078,  0.25099719, -0.07369559,\n",
            "        -0.37753546, -0.08584363,  0.00333609, -0.2399022 , -0.51623983],\n",
            "       [-0.084609  , -0.22589744, -0.00306935,  0.1954239 , -0.327784  ,\n",
            "        -0.49318928,  0.42323124,  0.18588504,  0.58200169,  0.02301787],\n",
            "       [ 0.01388163, -0.2631197 ,  0.42190391, -0.53612946,  0.01058633,\n",
            "        -0.04415909,  0.29385139,  0.49501812, -0.32731018,  0.15669071],\n",
            "       [-0.27340804,  0.28220631,  0.28945859, -0.1626885 ,  0.14790418,\n",
            "        -0.35915036, -0.64971879,  0.23854611,  0.29589227,  0.1337842 ],\n",
            "       [ 0.10830593,  0.27974551, -0.20571161,  0.10308827,  0.10096026,\n",
            "        -0.5325142 ,  0.15994871, -0.16150892, -0.3941055 ,  0.59692177],\n",
            "       [ 0.44882085,  0.34972045, -0.01773924, -0.50737391, -0.52251393,\n",
            "         0.11970007, -0.02807841, -0.20137782,  0.25705553,  0.15409283],\n",
            "       [-0.35599817, -0.05022624,  0.63427946,  0.20935183, -0.34847081,\n",
            "         0.11510691,  0.03182222, -0.47748403, -0.1161671 ,  0.21777064],\n",
            "       [ 0.18417681, -0.32168889,  0.15954963, -0.32397524,  0.5548368 ,\n",
            "        -0.1807982 ,  0.08626619, -0.55063636,  0.28439362, -0.01119242],\n",
            "       [-0.41560913,  0.59522266,  0.02089304, -0.23979844,  0.13515565,\n",
            "        -0.0893732 ,  0.44674689, -0.10709455, -0.02239562, -0.42098815]]))\n",
            "[[ 2.31470983 -1.92264991  0.7642126   0.78096977 -2.74248585  1.20175092\n",
            "   0.38693174 -1.37664514 -0.96484143  0.83123246]\n",
            " [-2.24504111  1.25605742 -0.91466223 -0.39587642  4.71823627 -1.32162185\n",
            "   0.52594984  2.39368168  0.33051878 -2.33540101]\n",
            " [-1.41290916  0.66149939  0.94968095 -0.18869248 -0.50069581 -0.55664939\n",
            "  -0.55275157  0.57384943 -0.04209635  1.11025544]\n",
            " [ 0.88051129  0.37055438  0.15632501  1.25248223 -1.81219563 -0.7249179\n",
            "  -0.19613524 -1.81766381  0.56943994  0.52226388]\n",
            " [ 0.39743656 -0.28842728 -1.09880632 -1.57965965  0.36480771  0.90235521\n",
            "  -0.47743451  2.09911148  0.53638288 -0.04562024]\n",
            " [ 0.36068175  0.22958502  0.33426258  0.10367281 -0.06700744 -0.37158555\n",
            "   0.22972702 -1.26286862 -0.45133033  0.75430018]\n",
            " [-2.01045364  0.19347423 -1.01393804 -0.74303568  3.56449935 -0.31892146\n",
            "  -0.67116163  2.01265699  0.72873355 -0.69454601]\n",
            " [ 1.18043988  0.86047396 -0.88991494  1.30425635 -0.14247318  0.69661973\n",
            "   0.5413572  -1.69774697 -0.60797727 -1.00698216]\n",
            " [-0.1679456  -0.63197036 -0.0540802  -0.73587818 -0.46423184  0.67805628\n",
            "   0.88551393  0.37662528 -0.03416891  0.42341327]\n",
            " [ 1.3938872  -0.74982353  1.96636643  1.00676681 -3.21953806  0.44078124\n",
            "  -0.40298654 -1.90114336 -0.04414834  0.55576763]]\n",
            "[[2.95726101 2.04939653 3.09073485 3.22311637 1.78554985]\n",
            " [2.61266989 1.75663954 2.48635951 2.79783984 1.50654432]\n",
            " [2.98361778 2.02894044 2.82637865 2.88685728 1.69799548]\n",
            " [2.98565892 2.85485651 3.58995669 4.0073463  2.2697569 ]\n",
            " [2.49815821 1.97791033 2.77809758 2.71690515 1.59098767]\n",
            " [2.72146909 2.39905911 2.58780909 2.78212857 1.71792628]\n",
            " [2.22935358 1.74438251 2.94718357 2.48955906 2.05838199]\n",
            " [2.30476788 1.92350098 2.41698824 2.81379687 1.38016019]\n",
            " [2.91925254 2.36604123 3.53647969 3.30424184 2.52990887]\n",
            " [3.39559098 2.84629279 4.05845051 4.01068273 2.35816262]]\n",
            "[[ 1.00000000e+00  9.85715154e-16  2.29412704e-15 -3.84473001e-15\n",
            "   8.43560798e-16  1.88453652e-15  3.17169943e-16 -5.43891993e-15\n",
            "   2.16400940e-15 -1.37598624e-15]\n",
            " [-2.26617895e-16  1.00000000e+00  1.86152909e-15 -3.64622514e-15\n",
            "   1.82408092e-15  1.04956548e-15 -3.67165507e-17 -2.94758131e-15\n",
            "   2.44840551e-15 -1.41493814e-15]\n",
            " [ 1.08167816e-15  3.05377056e-16  1.00000000e+00 -3.71094196e-15\n",
            "   4.00589280e-16  2.08200353e-15 -2.78313099e-16 -5.38624160e-15\n",
            "   2.52019283e-15 -8.17703303e-16]\n",
            " [-9.24430272e-16  3.96295058e-16  2.34558227e-15  1.00000000e+00\n",
            "   3.38617602e-15  2.90616521e-15  1.10771875e-16 -4.07891735e-15\n",
            "   2.80844112e-15 -2.51873853e-15]\n",
            " [ 1.19403087e-15 -1.80308699e-16  3.30509947e-15 -2.91463369e-15\n",
            "   1.00000000e+00  1.92155945e-15 -1.52891821e-16 -4.84325072e-15\n",
            "   2.20394078e-15 -9.39212993e-16]\n",
            " [-4.06319903e-17  5.60016416e-16  2.44359474e-15 -3.30211121e-15\n",
            "   1.36817541e-15  1.00000000e+00  5.16952243e-16 -4.53382245e-15\n",
            "   2.24616068e-15 -1.47191556e-15]\n",
            " [ 1.64088949e-17 -1.08628685e-16  1.96759093e-15 -3.93006388e-15\n",
            "   1.79832201e-15  2.26674089e-15  1.00000000e+00 -3.08760626e-15\n",
            "   2.39233786e-15 -1.57424120e-15]\n",
            " [-2.53614386e-16  6.12853505e-16  1.65281190e-15 -3.44711678e-15\n",
            "   2.52567926e-15  1.42541149e-15 -4.37404121e-17  1.00000000e+00\n",
            "   1.98995356e-15 -1.56131782e-15]\n",
            " [-5.45098283e-16  6.70718152e-16  2.54229649e-15 -5.65418062e-15\n",
            "   2.89027178e-15  2.95961848e-15 -1.45649331e-16 -4.34759231e-15\n",
            "   1.00000000e+00 -1.53033889e-15]\n",
            " [ 1.74881065e-17  5.78154131e-16  2.95772650e-15 -5.66259938e-15\n",
            "   3.07866427e-15  2.50504111e-15  1.74659596e-16 -4.27038361e-15\n",
            "   3.23080107e-15  1.00000000e+00]]\n"
          ],
          "name": "stdout"
        }
      ]
    },
    {
      "cell_type": "markdown",
      "metadata": {
        "id": "Qne3RnfOL6-4",
        "colab_type": "text"
      },
      "source": [
        "## End of Part - 1\n",
        " --- --- ---"
      ]
    },
    {
      "cell_type": "markdown",
      "metadata": {
        "id": "LA-m4UYkMPTe",
        "colab_type": "text"
      },
      "source": [
        "## Part - 2\n",
        "---\n",
        "In this part, you will be working with the library ```pandas```. Import this library with an alias name ```pd```."
      ]
    },
    {
      "cell_type": "code",
      "metadata": {
        "id": "i8z7TpnZSIms",
        "colab_type": "code",
        "colab": {}
      },
      "source": [
        "# Initial imports\n",
        "import numpy as np\n",
        "import matplotlib.pyplot as plt\n",
        "import pandas as pd"
      ],
      "execution_count": 0,
      "outputs": []
    },
    {
      "cell_type": "markdown",
      "metadata": {
        "id": "2v-HkHnyuQ3X",
        "colab_type": "text"
      },
      "source": [
        "Download dataset from: http://biostat.mc.vanderbilt.edu/wiki/pub/Main/DataSets/titanic3.csv\n",
        "Read the data and display the first 5 rows"
      ]
    },
    {
      "cell_type": "code",
      "metadata": {
        "id": "LinX5ywNTUIm",
        "colab_type": "code",
        "outputId": "99a64c9f-81bb-4740-ee9d-36254106cb30",
        "colab": {
          "base_uri": "https://localhost:8080/",
          "height": 195
        }
      },
      "source": [
        "#Download dataset from: http://biostat.mc.vanderbilt.edu/wiki/pub/Main/DataSets/titanic3.csv\n",
        "\n",
        "file_url = \"http://biostat.mc.vanderbilt.edu/wiki/pub/Main/DataSets/titanic3.csv\"\n",
        "data = pd.read_csv(file_url)\n",
        "data.head()"
      ],
      "execution_count": 0,
      "outputs": [
        {
          "output_type": "execute_result",
          "data": {
            "text/html": [
              "<div>\n",
              "<style scoped>\n",
              "    .dataframe tbody tr th:only-of-type {\n",
              "        vertical-align: middle;\n",
              "    }\n",
              "\n",
              "    .dataframe tbody tr th {\n",
              "        vertical-align: top;\n",
              "    }\n",
              "\n",
              "    .dataframe thead th {\n",
              "        text-align: right;\n",
              "    }\n",
              "</style>\n",
              "<table border=\"1\" class=\"dataframe\">\n",
              "  <thead>\n",
              "    <tr style=\"text-align: right;\">\n",
              "      <th></th>\n",
              "      <th>pclass</th>\n",
              "      <th>survived</th>\n",
              "      <th>name</th>\n",
              "      <th>sex</th>\n",
              "      <th>age</th>\n",
              "      <th>sibsp</th>\n",
              "      <th>parch</th>\n",
              "      <th>ticket</th>\n",
              "      <th>fare</th>\n",
              "      <th>cabin</th>\n",
              "      <th>embarked</th>\n",
              "      <th>boat</th>\n",
              "      <th>body</th>\n",
              "      <th>home.dest</th>\n",
              "    </tr>\n",
              "  </thead>\n",
              "  <tbody>\n",
              "    <tr>\n",
              "      <th>0</th>\n",
              "      <td>1</td>\n",
              "      <td>1</td>\n",
              "      <td>Allen, Miss. Elisabeth Walton</td>\n",
              "      <td>female</td>\n",
              "      <td>29.00</td>\n",
              "      <td>0</td>\n",
              "      <td>0</td>\n",
              "      <td>24160</td>\n",
              "      <td>211.3375</td>\n",
              "      <td>B5</td>\n",
              "      <td>S</td>\n",
              "      <td>2</td>\n",
              "      <td>NaN</td>\n",
              "      <td>St Louis, MO</td>\n",
              "    </tr>\n",
              "    <tr>\n",
              "      <th>1</th>\n",
              "      <td>1</td>\n",
              "      <td>1</td>\n",
              "      <td>Allison, Master. Hudson Trevor</td>\n",
              "      <td>male</td>\n",
              "      <td>0.92</td>\n",
              "      <td>1</td>\n",
              "      <td>2</td>\n",
              "      <td>113781</td>\n",
              "      <td>151.5500</td>\n",
              "      <td>C22 C26</td>\n",
              "      <td>S</td>\n",
              "      <td>11</td>\n",
              "      <td>NaN</td>\n",
              "      <td>Montreal, PQ / Chesterville, ON</td>\n",
              "    </tr>\n",
              "    <tr>\n",
              "      <th>2</th>\n",
              "      <td>1</td>\n",
              "      <td>0</td>\n",
              "      <td>Allison, Miss. Helen Loraine</td>\n",
              "      <td>female</td>\n",
              "      <td>2.00</td>\n",
              "      <td>1</td>\n",
              "      <td>2</td>\n",
              "      <td>113781</td>\n",
              "      <td>151.5500</td>\n",
              "      <td>C22 C26</td>\n",
              "      <td>S</td>\n",
              "      <td>NaN</td>\n",
              "      <td>NaN</td>\n",
              "      <td>Montreal, PQ / Chesterville, ON</td>\n",
              "    </tr>\n",
              "    <tr>\n",
              "      <th>3</th>\n",
              "      <td>1</td>\n",
              "      <td>0</td>\n",
              "      <td>Allison, Mr. Hudson Joshua Creighton</td>\n",
              "      <td>male</td>\n",
              "      <td>30.00</td>\n",
              "      <td>1</td>\n",
              "      <td>2</td>\n",
              "      <td>113781</td>\n",
              "      <td>151.5500</td>\n",
              "      <td>C22 C26</td>\n",
              "      <td>S</td>\n",
              "      <td>NaN</td>\n",
              "      <td>135.0</td>\n",
              "      <td>Montreal, PQ / Chesterville, ON</td>\n",
              "    </tr>\n",
              "    <tr>\n",
              "      <th>4</th>\n",
              "      <td>1</td>\n",
              "      <td>0</td>\n",
              "      <td>Allison, Mrs. Hudson J C (Bessie Waldo Daniels)</td>\n",
              "      <td>female</td>\n",
              "      <td>25.00</td>\n",
              "      <td>1</td>\n",
              "      <td>2</td>\n",
              "      <td>113781</td>\n",
              "      <td>151.5500</td>\n",
              "      <td>C22 C26</td>\n",
              "      <td>S</td>\n",
              "      <td>NaN</td>\n",
              "      <td>NaN</td>\n",
              "      <td>Montreal, PQ / Chesterville, ON</td>\n",
              "    </tr>\n",
              "  </tbody>\n",
              "</table>\n",
              "</div>"
            ],
            "text/plain": [
              "   pclass  survived  ...   body                        home.dest\n",
              "0       1         1  ...    NaN                     St Louis, MO\n",
              "1       1         1  ...    NaN  Montreal, PQ / Chesterville, ON\n",
              "2       1         0  ...    NaN  Montreal, PQ / Chesterville, ON\n",
              "3       1         0  ...  135.0  Montreal, PQ / Chesterville, ON\n",
              "4       1         0  ...    NaN  Montreal, PQ / Chesterville, ON\n",
              "\n",
              "[5 rows x 14 columns]"
            ]
          },
          "metadata": {
            "tags": []
          },
          "execution_count": 14
        }
      ]
    },
    {
      "cell_type": "markdown",
      "metadata": {
        "id": "vTk1-mF5WYFN",
        "colab_type": "text"
      },
      "source": [
        "### Preprocessing of the Dataset"
      ]
    },
    {
      "cell_type": "markdown",
      "metadata": {
        "id": "kx9UrI9WWt17",
        "colab_type": "text"
      },
      "source": [
        "\n",
        "\n",
        "---\n",
        "\n",
        "\n",
        "**1. Convert the categorical values of columns 'sex', 'embarked', 'pclass' into dummy values and add them into titanic_data_new DataFrame**\n",
        "\n",
        "\n",
        "\n",
        "\n",
        "---\n",
        "\n"
      ]
    },
    {
      "cell_type": "code",
      "metadata": {
        "id": "AwDh9njbZ0QU",
        "colab_type": "code",
        "outputId": "ef1a7a0e-b721-48d4-9702-8c3ec3f720cd",
        "colab": {
          "base_uri": "https://localhost:8080/",
          "height": 402
        }
      },
      "source": [
        "sex = pd.get_dummies(data.sex)\n",
        "embarked = pd.get_dummies(data.embarked)\n",
        "pclass = pd.get_dummies(data.pclass)\n",
        "titanic_data_new = pd.concat([sex,embarked,pclass],axis=1)\n",
        "titanic_data_new"
      ],
      "execution_count": 0,
      "outputs": [
        {
          "output_type": "execute_result",
          "data": {
            "text/html": [
              "<div>\n",
              "<style scoped>\n",
              "    .dataframe tbody tr th:only-of-type {\n",
              "        vertical-align: middle;\n",
              "    }\n",
              "\n",
              "    .dataframe tbody tr th {\n",
              "        vertical-align: top;\n",
              "    }\n",
              "\n",
              "    .dataframe thead th {\n",
              "        text-align: right;\n",
              "    }\n",
              "</style>\n",
              "<table border=\"1\" class=\"dataframe\">\n",
              "  <thead>\n",
              "    <tr style=\"text-align: right;\">\n",
              "      <th></th>\n",
              "      <th>female</th>\n",
              "      <th>male</th>\n",
              "      <th>C</th>\n",
              "      <th>Q</th>\n",
              "      <th>S</th>\n",
              "      <th>1</th>\n",
              "      <th>2</th>\n",
              "      <th>3</th>\n",
              "    </tr>\n",
              "  </thead>\n",
              "  <tbody>\n",
              "    <tr>\n",
              "      <th>0</th>\n",
              "      <td>1</td>\n",
              "      <td>0</td>\n",
              "      <td>0</td>\n",
              "      <td>0</td>\n",
              "      <td>1</td>\n",
              "      <td>1</td>\n",
              "      <td>0</td>\n",
              "      <td>0</td>\n",
              "    </tr>\n",
              "    <tr>\n",
              "      <th>1</th>\n",
              "      <td>0</td>\n",
              "      <td>1</td>\n",
              "      <td>0</td>\n",
              "      <td>0</td>\n",
              "      <td>1</td>\n",
              "      <td>1</td>\n",
              "      <td>0</td>\n",
              "      <td>0</td>\n",
              "    </tr>\n",
              "    <tr>\n",
              "      <th>2</th>\n",
              "      <td>1</td>\n",
              "      <td>0</td>\n",
              "      <td>0</td>\n",
              "      <td>0</td>\n",
              "      <td>1</td>\n",
              "      <td>1</td>\n",
              "      <td>0</td>\n",
              "      <td>0</td>\n",
              "    </tr>\n",
              "    <tr>\n",
              "      <th>3</th>\n",
              "      <td>0</td>\n",
              "      <td>1</td>\n",
              "      <td>0</td>\n",
              "      <td>0</td>\n",
              "      <td>1</td>\n",
              "      <td>1</td>\n",
              "      <td>0</td>\n",
              "      <td>0</td>\n",
              "    </tr>\n",
              "    <tr>\n",
              "      <th>4</th>\n",
              "      <td>1</td>\n",
              "      <td>0</td>\n",
              "      <td>0</td>\n",
              "      <td>0</td>\n",
              "      <td>1</td>\n",
              "      <td>1</td>\n",
              "      <td>0</td>\n",
              "      <td>0</td>\n",
              "    </tr>\n",
              "    <tr>\n",
              "      <th>...</th>\n",
              "      <td>...</td>\n",
              "      <td>...</td>\n",
              "      <td>...</td>\n",
              "      <td>...</td>\n",
              "      <td>...</td>\n",
              "      <td>...</td>\n",
              "      <td>...</td>\n",
              "      <td>...</td>\n",
              "    </tr>\n",
              "    <tr>\n",
              "      <th>1304</th>\n",
              "      <td>1</td>\n",
              "      <td>0</td>\n",
              "      <td>1</td>\n",
              "      <td>0</td>\n",
              "      <td>0</td>\n",
              "      <td>0</td>\n",
              "      <td>0</td>\n",
              "      <td>1</td>\n",
              "    </tr>\n",
              "    <tr>\n",
              "      <th>1305</th>\n",
              "      <td>1</td>\n",
              "      <td>0</td>\n",
              "      <td>1</td>\n",
              "      <td>0</td>\n",
              "      <td>0</td>\n",
              "      <td>0</td>\n",
              "      <td>0</td>\n",
              "      <td>1</td>\n",
              "    </tr>\n",
              "    <tr>\n",
              "      <th>1306</th>\n",
              "      <td>0</td>\n",
              "      <td>1</td>\n",
              "      <td>1</td>\n",
              "      <td>0</td>\n",
              "      <td>0</td>\n",
              "      <td>0</td>\n",
              "      <td>0</td>\n",
              "      <td>1</td>\n",
              "    </tr>\n",
              "    <tr>\n",
              "      <th>1307</th>\n",
              "      <td>0</td>\n",
              "      <td>1</td>\n",
              "      <td>1</td>\n",
              "      <td>0</td>\n",
              "      <td>0</td>\n",
              "      <td>0</td>\n",
              "      <td>0</td>\n",
              "      <td>1</td>\n",
              "    </tr>\n",
              "    <tr>\n",
              "      <th>1308</th>\n",
              "      <td>0</td>\n",
              "      <td>1</td>\n",
              "      <td>0</td>\n",
              "      <td>0</td>\n",
              "      <td>1</td>\n",
              "      <td>0</td>\n",
              "      <td>0</td>\n",
              "      <td>1</td>\n",
              "    </tr>\n",
              "  </tbody>\n",
              "</table>\n",
              "<p>1309 rows × 8 columns</p>\n",
              "</div>"
            ],
            "text/plain": [
              "      female  male  C  Q  S  1  2  3\n",
              "0          1     0  0  0  1  1  0  0\n",
              "1          0     1  0  0  1  1  0  0\n",
              "2          1     0  0  0  1  1  0  0\n",
              "3          0     1  0  0  1  1  0  0\n",
              "4          1     0  0  0  1  1  0  0\n",
              "...      ...   ... .. .. .. .. .. ..\n",
              "1304       1     0  1  0  0  0  0  1\n",
              "1305       1     0  1  0  0  0  0  1\n",
              "1306       0     1  1  0  0  0  0  1\n",
              "1307       0     1  1  0  0  0  0  1\n",
              "1308       0     1  0  0  1  0  0  1\n",
              "\n",
              "[1309 rows x 8 columns]"
            ]
          },
          "metadata": {
            "tags": []
          },
          "execution_count": 16
        }
      ]
    },
    {
      "cell_type": "markdown",
      "metadata": {
        "id": "Z9bxOfzDbY-n",
        "colab_type": "text"
      },
      "source": [
        "\n",
        "\n",
        "---\n",
        "\n",
        "\n",
        "**2. Fill the missing data in Age and Fare columns with the mean value of the respected column then add these columns to titanic_data_new**\n",
        "\n",
        "\n",
        "---\n",
        "\n"
      ]
    },
    {
      "cell_type": "code",
      "metadata": {
        "id": "DNx7Pr0ehhAs",
        "colab_type": "code",
        "outputId": "5109cb30-4ac0-41a2-ddaf-0a32f47d88f5",
        "colab": {
          "base_uri": "https://localhost:8080/",
          "height": 195
        }
      },
      "source": [
        "age = data['age'].fillna(data.age.mean())\n",
        "fare = data['fare'].fillna(data.fare.mean())\n",
        "titanic_data_new = pd.concat([titanic_data_new,age,fare],axis=1)\n",
        "titanic_data_new.head()"
      ],
      "execution_count": 0,
      "outputs": [
        {
          "output_type": "execute_result",
          "data": {
            "text/html": [
              "<div>\n",
              "<style scoped>\n",
              "    .dataframe tbody tr th:only-of-type {\n",
              "        vertical-align: middle;\n",
              "    }\n",
              "\n",
              "    .dataframe tbody tr th {\n",
              "        vertical-align: top;\n",
              "    }\n",
              "\n",
              "    .dataframe thead th {\n",
              "        text-align: right;\n",
              "    }\n",
              "</style>\n",
              "<table border=\"1\" class=\"dataframe\">\n",
              "  <thead>\n",
              "    <tr style=\"text-align: right;\">\n",
              "      <th></th>\n",
              "      <th>female</th>\n",
              "      <th>male</th>\n",
              "      <th>C</th>\n",
              "      <th>Q</th>\n",
              "      <th>S</th>\n",
              "      <th>1</th>\n",
              "      <th>2</th>\n",
              "      <th>3</th>\n",
              "      <th>age</th>\n",
              "      <th>fare</th>\n",
              "    </tr>\n",
              "  </thead>\n",
              "  <tbody>\n",
              "    <tr>\n",
              "      <th>0</th>\n",
              "      <td>1</td>\n",
              "      <td>0</td>\n",
              "      <td>0</td>\n",
              "      <td>0</td>\n",
              "      <td>1</td>\n",
              "      <td>1</td>\n",
              "      <td>0</td>\n",
              "      <td>0</td>\n",
              "      <td>29.00</td>\n",
              "      <td>211.3375</td>\n",
              "    </tr>\n",
              "    <tr>\n",
              "      <th>1</th>\n",
              "      <td>0</td>\n",
              "      <td>1</td>\n",
              "      <td>0</td>\n",
              "      <td>0</td>\n",
              "      <td>1</td>\n",
              "      <td>1</td>\n",
              "      <td>0</td>\n",
              "      <td>0</td>\n",
              "      <td>0.92</td>\n",
              "      <td>151.5500</td>\n",
              "    </tr>\n",
              "    <tr>\n",
              "      <th>2</th>\n",
              "      <td>1</td>\n",
              "      <td>0</td>\n",
              "      <td>0</td>\n",
              "      <td>0</td>\n",
              "      <td>1</td>\n",
              "      <td>1</td>\n",
              "      <td>0</td>\n",
              "      <td>0</td>\n",
              "      <td>2.00</td>\n",
              "      <td>151.5500</td>\n",
              "    </tr>\n",
              "    <tr>\n",
              "      <th>3</th>\n",
              "      <td>0</td>\n",
              "      <td>1</td>\n",
              "      <td>0</td>\n",
              "      <td>0</td>\n",
              "      <td>1</td>\n",
              "      <td>1</td>\n",
              "      <td>0</td>\n",
              "      <td>0</td>\n",
              "      <td>30.00</td>\n",
              "      <td>151.5500</td>\n",
              "    </tr>\n",
              "    <tr>\n",
              "      <th>4</th>\n",
              "      <td>1</td>\n",
              "      <td>0</td>\n",
              "      <td>0</td>\n",
              "      <td>0</td>\n",
              "      <td>1</td>\n",
              "      <td>1</td>\n",
              "      <td>0</td>\n",
              "      <td>0</td>\n",
              "      <td>25.00</td>\n",
              "      <td>151.5500</td>\n",
              "    </tr>\n",
              "  </tbody>\n",
              "</table>\n",
              "</div>"
            ],
            "text/plain": [
              "   female  male  C  Q  S  1  2  3    age      fare\n",
              "0       1     0  0  0  1  1  0  0  29.00  211.3375\n",
              "1       0     1  0  0  1  1  0  0   0.92  151.5500\n",
              "2       1     0  0  0  1  1  0  0   2.00  151.5500\n",
              "3       0     1  0  0  1  1  0  0  30.00  151.5500\n",
              "4       1     0  0  0  1  1  0  0  25.00  151.5500"
            ]
          },
          "metadata": {
            "tags": []
          },
          "execution_count": 20
        }
      ]
    },
    {
      "cell_type": "markdown",
      "metadata": {
        "id": "SlRzKfhxkd1M",
        "colab_type": "text"
      },
      "source": [
        "###Normalization\n",
        "\n",
        "\n",
        "---\n",
        "\n",
        "\n",
        "\n",
        "1. Normalize the columns which have numerical data\n",
        "\n",
        "\n",
        "\n",
        "---\n",
        "\n"
      ]
    },
    {
      "cell_type": "code",
      "metadata": {
        "id": "Y3hpu92TlM38",
        "colab_type": "code",
        "colab": {}
      },
      "source": [
        ""
      ],
      "execution_count": 0,
      "outputs": []
    },
    {
      "cell_type": "markdown",
      "metadata": {
        "id": "wB9-5x83mFAO",
        "colab_type": "text"
      },
      "source": [
        "\n",
        "\n",
        "---\n",
        "2. Drop the original age, fare columns\n",
        "3. Append the normalized columns to the titanic_data_new DataFrame.\n",
        "\n",
        "\n",
        "\n",
        "---\n",
        "\n"
      ]
    },
    {
      "cell_type": "code",
      "metadata": {
        "id": "Kb00kM0onQJy",
        "colab_type": "code",
        "colab": {}
      },
      "source": [
        ""
      ],
      "execution_count": 0,
      "outputs": []
    },
    {
      "cell_type": "markdown",
      "metadata": {
        "id": "uLxN3PozntKe",
        "colab_type": "text"
      },
      "source": [
        "###Plotting\n",
        "1. plot the age against the ID(continuous)\n",
        "2. plot the fare against the ID(scatter)"
      ]
    },
    {
      "cell_type": "code",
      "metadata": {
        "id": "LdSfNEKYn_RO",
        "colab_type": "code",
        "colab": {}
      },
      "source": [
        ""
      ],
      "execution_count": 0,
      "outputs": []
    },
    {
      "cell_type": "markdown",
      "metadata": {
        "id": "LQr7y6eevTvy",
        "colab_type": "text"
      },
      "source": [
        "## End of Part - 2\n",
        "---"
      ]
    },
    {
      "cell_type": "markdown",
      "metadata": {
        "id": "TWhZcKvfvW2B",
        "colab_type": "text"
      },
      "source": [
        "## Part - 3\n",
        "---"
      ]
    },
    {
      "cell_type": "markdown",
      "metadata": {
        "id": "8bY4H9DszQ2S",
        "colab_type": "text"
      },
      "source": [
        "In this part, you will work with the library ```matplotlib```. Import the ```pyplot``` from ```matplotlib``` with an alias name ```plt```."
      ]
    },
    {
      "cell_type": "code",
      "metadata": {
        "id": "hPN6qctRzknT",
        "colab_type": "code",
        "colab": {}
      },
      "source": [
        ""
      ],
      "execution_count": 0,
      "outputs": []
    },
    {
      "cell_type": "markdown",
      "metadata": {
        "id": "fQ6KX_Aezlub",
        "colab_type": "text"
      },
      "source": [
        "Plot the sine function with domain in $[-3\\pi,3\\pi]$. Label the axes appropriately. Add title $\\sin(x)$. Use latex formatting while adding the title. Set the plot size to (10,10)"
      ]
    },
    {
      "cell_type": "code",
      "metadata": {
        "id": "0tA3J5mA1cQ0",
        "colab_type": "code",
        "colab": {}
      },
      "source": [
        ""
      ],
      "execution_count": 0,
      "outputs": []
    },
    {
      "cell_type": "markdown",
      "metadata": {
        "id": "6KV7RqMm1d8P",
        "colab_type": "text"
      },
      "source": [
        "Plot $\\sin(x)$ and its spectrum, $\\cos(x)$ and its spectrum in a single plot, in the domain $[-2\\pi,2\\pi]$. Label the plot appropriately."
      ]
    },
    {
      "cell_type": "code",
      "metadata": {
        "id": "-OJuY0HO12Oo",
        "colab_type": "code",
        "colab": {}
      },
      "source": [
        ""
      ],
      "execution_count": 0,
      "outputs": []
    },
    {
      "cell_type": "markdown",
      "metadata": {
        "id": "1S6ZRm6B18ZF",
        "colab_type": "text"
      },
      "source": [
        "## End of Part - 3\n",
        "---"
      ]
    },
    {
      "cell_type": "markdown",
      "metadata": {
        "id": "MUucpzXBl096",
        "colab_type": "text"
      },
      "source": [
        "Create a Github repository with the name ***SHALA2020*** and save this assignment there."
      ]
    }
  ]
}